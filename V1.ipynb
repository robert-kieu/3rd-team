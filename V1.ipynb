{
  "nbformat": 4,
  "nbformat_minor": 0,
  "metadata": {
    "colab": {
      "provenance": [],
      "gpuType": "T4"
    },
    "kernelspec": {
      "name": "python3",
      "display_name": "Python 3"
    },
    "language_info": {
      "name": "python"
    }
  },
  "cells": [
    {
      "cell_type": "markdown",
      "source": [
        "# PARALLELIZE RANDOM FOREST"
      ],
      "metadata": {
        "id": "7vpdloU5lbkm"
      }
    },
    {
      "cell_type": "markdown",
      "source": [
        "### Hàm hỗ trợ"
      ],
      "metadata": {
        "id": "nrZgqWvz6eig"
      }
    },
    {
      "cell_type": "code",
      "source": [
        "import numpy as np\n",
        "import pandas as pd\n",
        "import numba as nb\n",
        "import random\n",
        "import time\n",
        "from numba import prange, njit, jit, typed, types\n",
        "from numba.typed import List, Dict\n",
        "from numba.core import types\n",
        "\n",
        "# To ignore warinings\n",
        "import warnings\n",
        "warnings.filterwarnings('ignore')"
      ],
      "metadata": {
        "id": "fftBSw4ufDXo"
      },
      "execution_count": 1,
      "outputs": []
    },
    {
      "cell_type": "code",
      "source": [
        "from google.colab import drive\n",
        "drive.mount('/content/drive')"
      ],
      "metadata": {
        "colab": {
          "base_uri": "https://localhost:8080/"
        },
        "id": "2rHXYOthXhry",
        "outputId": "fcdb2114-f838-43cb-a17d-435f968e84fe"
      },
      "execution_count": 2,
      "outputs": [
        {
          "output_type": "stream",
          "name": "stdout",
          "text": [
            "Drive already mounted at /content/drive; to attempt to forcibly remount, call drive.mount(\"/content/drive\", force_remount=True).\n"
          ]
        }
      ]
    },
    {
      "cell_type": "code",
      "source": [
        "# Hàm hỗ trợ phân tách tập train - test\n",
        "\n",
        "def trainTestSplit(dataFrame, testSize):\n",
        "    if isinstance(testSize, float):\n",
        "        testSize = round(testSize * len(dataFrame))\n",
        "    indices = dataFrame.index.tolist()\n",
        "    testIndices = random.sample(population = indices, k = testSize)\n",
        "    dataFrameTest = dataFrame.loc[testIndices]\n",
        "    dataFrameTrain = dataFrame.drop(testIndices)\n",
        "    return dataFrameTrain, dataFrameTest\n",
        "\n",
        "# Hàm hỗ trợ lọc và đến các giá trị unique\n",
        "\n",
        "@nb.jit\n",
        "def numba_unique_with_counts(arr):\n",
        "\n",
        "    unique_values = np.empty(0)\n",
        "    value_counts = np.empty(0)\n",
        "\n",
        "    for value in arr:\n",
        "        if value not in unique_values:\n",
        "            np.append(unique_values, value)\n",
        "            np.append(value_counts, 1)\n",
        "        else:\n",
        "            index = unique_values.index(value)\n",
        "            value_counts[index] += 1\n",
        "\n",
        "    return unique_values, value_counts"
      ],
      "metadata": {
        "id": "guIv9IUD6eOj"
      },
      "execution_count": 3,
      "outputs": []
    },
    {
      "cell_type": "markdown",
      "source": [
        "### Decision Tree\n"
      ],
      "metadata": {
        "id": "mn_Zumfi1VDw"
      }
    },
    {
      "cell_type": "code",
      "source": [
        "'''\n",
        "Kiểm tra data có thuộc một label duy nhất\n",
        "'''\n",
        "@nb.jit\n",
        "def checkPurity(data):\n",
        "    uniqueVals, _ = numba_unique_with_counts(data[:, -1])\n",
        "    if len(uniqueVals) == 1:\n",
        "        return True\n",
        "    else:\n",
        "        return False\n",
        "\n",
        "\n",
        "'''\n",
        "Xác định label phổ biến nhất còn trong data và trả về label đó\n",
        "\n",
        "'''\n",
        "@nb.jit\n",
        "def classifyData(data):\n",
        "    uniqueClasses, uniqueClassesCounts = np.unique(data[:, -1], return_counts = True)\n",
        "\n",
        "    # print(uniqueClassesCounts)\n",
        "\n",
        "    return uniqueClasses[uniqueClassesCounts.argmax()]\n",
        "\n",
        "\n",
        "'''\n",
        "Xác định cột (thuộc tính) và các giá trị split tiềm năng của cột đó\n",
        "'''\n",
        "# def getPotentialSplits(data):\n",
        "#     potentialSplits = {}\n",
        "#     _, columns = data.shape\n",
        "\n",
        "#     # Lấy hết thuộc tính (trừ cột label cuối cùng) gán vào columnsIndices (List gồm index của các thuộc tính)\n",
        "#     columnsIndices = list(range(columns - 1))\n",
        "\n",
        "#     for column in columnsIndices:\n",
        "#         values = data[:, column]\n",
        "#         # Xét độ unique của mỗi thuộc tính\n",
        "#         uniqueValues = np.unique(values)\n",
        "\n",
        "#         # Nếu thuộc tính chỉ có đúng 1 giá trị thì potentialSplits tại cột (thuộc tính) đó = chính giá trị đó\n",
        "#         if len(uniqueValues) == 1:\n",
        "#             potentialSplits[column] = uniqueValues\n",
        "\n",
        "#         # còn không thì potentialSplits tại cột (thuộc tính) đó sẽ chứa các giá trị trung bình giữa 2 giá trị kế nhau trong mảng uniqueValues\n",
        "#         else:\n",
        "#             potentialSplits[column] = []\n",
        "#             for i in range(len(uniqueValues)):\n",
        "#                 if i != 0:\n",
        "#                     currentValue = uniqueValues[i]\n",
        "#                     previousValue = uniqueValues[i - 1]\n",
        "#                     potentialSplits[column].append((currentValue + previousValue) / 2)\n",
        "#     return potentialSplits\n",
        "\n",
        "@nb.jit\n",
        "def getPotentialSplits(data):\n",
        "  columns = data.shape[1]\n",
        "\n",
        "\n",
        "  columnsIndices = np.arange(columns - 1)\n",
        "  potentialSplits = np.empty(columns - 1, dtype=object)\n",
        "\n",
        "  for col in columnsIndices:\n",
        "    values = data[:, col]\n",
        "\n",
        "    uniqueValues, _ = numba_unique_with_counts(values)\n",
        "\n",
        "    if len(uniqueValues) == 1:\n",
        "      potentialSplits[col] = uniqueValues\n",
        "\n",
        "    else:\n",
        "      # splitValues = np.empty(len(uniqueValues) - 1)\n",
        "\n",
        "      if len(uniqueValues) > 0:\n",
        "        splitValues = np.empty(len(uniqueValues) - 1)\n",
        "      else:\n",
        "        splitValues = np.empty(0)\n",
        "\n",
        "      for i in range(len(uniqueValues)):\n",
        "          if i != 0:\n",
        "              currentValue = uniqueValues[i]\n",
        "              previousValue = uniqueValues[i - 1]\n",
        "              splitValues[i-1] = (currentValue + previousValue) / 2\n",
        "\n",
        "      # Vẫn là mảng một chiều nên access vô phần tử bằng [][] còn [ , ] thì ko dc\n",
        "      potentialSplits[col] = splitValues\n",
        "\n",
        "  return potentialSplits\n",
        "\n",
        "\n",
        "'''\n",
        "# Tách data thành 2 phần dựa vào splitValue\n",
        "'''\n",
        "@nb.jit\n",
        "def splitData(data, splitColumn, splitValue):\n",
        "    # Lấy data của cột thuộc tính đang đc xét để so sánh\n",
        "    splitColumnValues = data[:, splitColumn]\n",
        "\n",
        "    # Tách nguyên data (không phải chỉ mỗi data ở cột splitColumnValues) thành hai phần, một phần gồm các giá trị ở cột splitColumnValues <= splitValue và ngược lại\n",
        "    return data[splitColumnValues <= splitValue], data[splitColumnValues > splitValue]\n",
        "\n",
        "'''\n",
        "# Tính entropy của từng phần data\n",
        "'''\n",
        "\n",
        "# def calculateEntropy(data):\n",
        "#     # Tính entropy của data dựa vào tỷ lệ labels mà data thuộc về\n",
        "#     _, uniqueClassesCounts = np.unique(data[:, -1], return_counts = True)\n",
        "#     probabilities = uniqueClassesCounts / uniqueClassesCounts.sum()\n",
        "#     return sum(probabilities * -np.log2(probabilities))\n",
        "\n",
        "@nb.jit(parallel=True, cache=True)\n",
        "def calculateEntropy(data):\n",
        "\n",
        "    # Tính entropy của data dựa vào tỷ lệ labels mà data thuộc về\n",
        "    _, uniqueClassesCounts = numba_unique_with_counts(data[:, -1])\n",
        "    probabilities = uniqueClassesCounts / uniqueClassesCounts.sum()\n",
        "\n",
        "    s = 0.0\n",
        "\n",
        "    for i in nb.prange(len(probabilities)):\n",
        "      s += ( probabilities[i] * -np.log2(probabilities[i]) )\n",
        "\n",
        "    return s\n",
        "\n",
        "\n",
        "'''\n",
        "# Tính tổng entropy\n",
        "'''\n",
        "\n",
        "@nb.jit(cache=True)\n",
        "def calculateOverallEntropy(dataBelow, dataAbove):\n",
        "\n",
        "    # print(dataBelow)\n",
        "    # print(dataAbove)\n",
        "\n",
        "    # Lấy tỷ lệ số lượng data ở nửa trên so với số lượng data\n",
        "    pDataBelow = len(dataBelow) / (len(dataBelow) + len(dataAbove))\n",
        "\n",
        "    # Lấy tỷ lệ số lượng data ở nửa dưới so với số lượng data\n",
        "    pDataAbove = len(dataAbove) / (len(dataBelow) + len(dataAbove))\n",
        "\n",
        "    # pDataBelow = np.array(pDataBelow)\n",
        "    # pDataAbove = np.array(pDataAbove)\n",
        "\n",
        "    return pDataBelow * calculateEntropy(np.array(dataBelow)) + pDataAbove * calculateEntropy(np.array(dataAbove))\n",
        "\n",
        "\n",
        "'''\n",
        "Xác định cột (thuộc tính) và giá trị tiềm năng duy nhất của cột đó (splitPoint có entropy nhỏ nhất)\n",
        "'''\n",
        "# def determineBestSplit(data, potentialSplits):\n",
        "#     overallEntropy = 9999\n",
        "#     bestSplitColumn = 0\n",
        "#     bestSplitValue = 0\n",
        "\n",
        "#     # Xét từng key là thuộc tính trong potentialSplits\n",
        "#     for splitColumn in potentialSplits:\n",
        "#         # Xét từng value của từng thuộc tính trong potentialSplits\n",
        "#         for splitValue in potentialSplits[splitColumn]:\n",
        "#             # Tách nguyên data của làm hai phần nhỏ hơn và lớn hơn so với value đang xét\n",
        "#             dataBelow, dataAbove = splitData(data, splitColumn, splitValue)\n",
        "#             # Xét Entropy của 2 phần data đó, nếu nhỏ nhất thì lấy\n",
        "#             currentOverallEntropy = calculateOverallEntropy(dataBelow, dataAbove)\n",
        "#             if currentOverallEntropy <= overallEntropy:\n",
        "#                 overallEntropy = currentOverallEntropy\n",
        "#                 bestSplitColumn = splitColumn\n",
        "#                 bestSplitValue = splitValue\n",
        "#     return bestSplitColumn, bestSplitValue\n",
        "\n",
        "\n",
        "@nb.jit(parallel=True, cache=True)\n",
        "def determineBestSplit(data, potentialSplits):\n",
        "    overallEntropy = 9999\n",
        "    bestSplitColumn = 0\n",
        "    bestSplitValue = 0\n",
        "\n",
        "    # Xét từng key là thuộc tính trong potentialSplits\n",
        "    for splitColumn in nb.prange(len(potentialSplits)):\n",
        "        # Xét từng value của từng thuộc tính trong potentialSplits\n",
        "        for splitValue in nb.prange(len(potentialSplits[splitColumn])):\n",
        "            # Tách nguyên data của làm hai phần nhỏ hơn và lớn hơn so với value đang xét\n",
        "            dataBelow, dataAbove = splitData(data, splitColumn, splitValue)\n",
        "            # Xét Entropy của 2 phần data đó, nếu nhỏ nhất thì lấy\n",
        "            currentOverallEntropy = calculateOverallEntropy(dataBelow, dataAbove)\n",
        "            if currentOverallEntropy <= overallEntropy:\n",
        "                overallEntropy = currentOverallEntropy\n",
        "                bestSplitColumn = splitColumn\n",
        "                bestSplitValue = splitValue\n",
        "    return bestSplitColumn, bestSplitValue\n",
        "\n",
        "\n",
        "'''\n",
        "Xây dựng cây\n",
        "'''\n",
        "@nb.jit(cache=True)\n",
        "def buildDecisionTree(dataFrame, currentDepth = 0, minSampleSize = 2, maxDepth = 1000, COLUMN_HEADERS = None):\n",
        "    # Nếu mới bắt đầu khởi tạo cây\n",
        "    if currentDepth == 0:\n",
        "        # global COLUMN_HEADERS\n",
        "        COLUMN_HEADERS = dataFrame.columns.to_numpy()\n",
        "        data = dataFrame.to_numpy()\n",
        "    else:\n",
        "        data = dataFrame\n",
        "        COLUMN_HEADERS = COLUMN_HEADERS\n",
        "    # Xét nếu tất cả dữ liệu đều có label giống nhau || dữ liệu dữ liệu ít hơn số dữ liệu tối thiểu để xét cho một node || độ cao đã đạt tối đa\n",
        "    if checkPurity(data) or len(data) < minSampleSize or currentDepth == maxDepth:\n",
        "        # Trả về label cho node cuối cùng đó\n",
        "        return classifyData(data)\n",
        "\n",
        "    # Nếu không thì tiếp tục quá trình tạo cây\n",
        "    else:\n",
        "        currentDepth += 1\n",
        "        # Lấy ra potentialSplits là dictionaries gồm key là các thuộc tính, values là các giá trị potential của mỗi thuộc tính\n",
        "        potentialSplits = getPotentialSplits(data)\n",
        "\n",
        "\n",
        "        # Lấy ra cột thuộc tính và giá trị split của thuộc tính mà mang lại giá trị entropy nhỏ nhất\n",
        "        splitColumn, splitValue = determineBestSplit(data, potentialSplits)\n",
        "\n",
        "        # split data theo 2 giá trị vừa lấy đc\n",
        "        dataBelow, dataAbove = splitData(data, splitColumn, splitValue)\n",
        "\n",
        "        # Nếu tất cả data đều thuộc một label rồi thì lấy label đó cho node\n",
        "        if len(dataBelow) == 0 or len(dataAbove) == 0:\n",
        "            return classifyData(data)\n",
        "        else:\n",
        "            # Đặt giá trị splitPoint cho thuộc tính đó, phần data nhỏ hơn sẽ qua yes và ngược lại\n",
        "            question = str(COLUMN_HEADERS[splitColumn]) + \" <= \" + str(splitValue)\n",
        "            decisionSubTree = {question: []}\n",
        "            # Tiếp tục rẽ nhánh bằng đệ quy\n",
        "            yesAnswer = buildDecisionTree(dataBelow, currentDepth, minSampleSize, maxDepth, COLUMN_HEADERS)\n",
        "            noAnswer = buildDecisionTree(dataAbove, currentDepth, minSampleSize, maxDepth, COLUMN_HEADERS)\n",
        "            # Nếu 2 nhánh giống nhau thì chỉ rẽ 1 nhánh, khác nhau thì rẽ 2 nhánh\n",
        "            if yesAnswer == noAnswer:\n",
        "                decisionSubTree = yesAnswer\n",
        "            else:\n",
        "                decisionSubTree[question].append(yesAnswer)\n",
        "                decisionSubTree[question].append(noAnswer)\n",
        "            return decisionSubTree\n",
        "\n",
        "\n",
        "'''\n",
        "Dùng để xét label cho tập dữ liệu bằng cách đưa mỗi cây trong randomForest\n",
        "'''\n",
        "@nb.jit\n",
        "def classifySample(sample, decisionTree):\n",
        "    # Nếu xét đến label của node lá cuối cùng thì trả về label đó\n",
        "    if not isinstance(decisionTree, dict):\n",
        "        return decisionTree\n",
        "    question = list(decisionTree.keys())[0]\n",
        "    attribute, value = question.split(\" <= \")\n",
        "    # So sánh với splitValue để mò đường đi tới node chứa label quyết định\n",
        "    if sample[attribute] <= float(value):\n",
        "        answer = decisionTree[question][0]\n",
        "    else:\n",
        "        answer = decisionTree[question][1]\n",
        "    return classifySample(sample, answer)\n",
        "\n",
        "\n",
        "'''\n",
        "Trả về label được dự đoán của tập data\n",
        "'''\n",
        "def decisionTreePredictions(dataFrame, decisionTree):\n",
        "    # Dự đoán từng label của từng dòng dữ liệu\n",
        "    predictions = dataFrame.apply(classifySample, axis = 1, args = (decisionTree,))\n",
        "    return predictions\n",
        "\n",
        "\n",
        "'''\n",
        "# So sánh độ chính xác giữa tập đang ktra và tập giá trị thật\n",
        "'''\n",
        "def calculateAccuracy(predictedResults, category):\n",
        "    resultCorrect = predictedResults == category\n",
        "    return resultCorrect.mean()"
      ],
      "metadata": {
        "id": "x9ZrleYU1QBa"
      },
      "execution_count": 4,
      "outputs": []
    },
    {
      "cell_type": "markdown",
      "source": [
        "### Random Forest\n"
      ],
      "metadata": {
        "id": "vvdh5EPl1cf2"
      }
    },
    {
      "cell_type": "code",
      "source": [
        "'''\n",
        "Dùng kỹ thuật boostrap để lấy random một subset của data\n",
        "'''\n",
        "@nb.jit\n",
        "def bootstrapSample(dataFrame, bootstrapSize):\n",
        "    randomIndices = np.random.randint(low = 0, high = len(dataFrame), size = bootstrapSize)\n",
        "    return dataFrame.iloc[randomIndices]\n",
        "\n",
        "\n",
        "'''\n",
        "Xây dựng rừng cây từ các cây decision tree\n",
        "'''\n",
        "@nb.jit(parallel=True)\n",
        "def createRandomForest(dataFrame, bootstrapSize, forestSize = 20, treeMaxDepth = 1000):\n",
        "    forest = []\n",
        "    total_time=0\n",
        "    for i in nb.prange(forestSize):\n",
        "        # Lấy random một subset của data bằng kỹ thuật boostrap\n",
        "        bootstrappedDataFrame = bootstrapSample(dataFrame, bootstrapSize)\n",
        "        # Xây dựng 1 cây quyết định từ subset đó\n",
        "        start_time = time.time()\n",
        "        decisionTree = buildDecisionTree(bootstrappedDataFrame, maxDepth = treeMaxDepth, )\n",
        "        end_time = time.time()\n",
        "        total_time += (end_time - start_time)\n",
        "        # Thêm cây vào rừng\n",
        "        forest.append(decisionTree)\n",
        "    print(\"AVG time to build a Decision Tree =\",total_time/forestSize)\n",
        "    return forest\n",
        "\n",
        "\n",
        "'''\n",
        "Dự đoán data bằng cách đưa qua từng cây trong randomForest rồi lấy label theo số đông\n",
        "'''\n",
        "def randomForestPredictions(dataFrame, randomForest):\n",
        "    predictions = {}\n",
        "    # Đưa dữ liệu qua rừng cây (cụ thể là từng cây)\n",
        "    for i in range(len(randomForest)):\n",
        "\n",
        "        column = \"decision tree \" + str(i)\n",
        "        predictions[column] = decisionTreePredictions(dataFrame, randomForest[i])\n",
        "    predictions = pd.DataFrame(predictions)\n",
        "    # Lấy label có số lần xuất hiện nhiều nhất của từng dòng\n",
        "    return predictions.mode(axis = 1)[0]\n",
        "\n",
        "'''\n",
        "# So sánh độ chính xác giữa tập đang ktra và tập giá trị thật\n",
        "'''\n",
        "def calculateAccuracy(predictedResults, category):\n",
        "    # So sánh label của tập dự đoán và tập real\n",
        "    resultCorrect = predictedResults == category\n",
        "    return resultCorrect.mean()"
      ],
      "metadata": {
        "id": "F2O5OGmr1ebm"
      },
      "execution_count": 5,
      "outputs": []
    },
    {
      "cell_type": "markdown",
      "source": [
        "### Run with car_evaluation dataset"
      ],
      "metadata": {
        "id": "MFSU5qttnOVf"
      }
    },
    {
      "cell_type": "code",
      "source": [
        "dataFrame = pd.read_csv(\"/content/drive/MyDrive/Bài Tập Về Nhà Môn Cuối/random-forest-from-scratch-main/dataset_files/car_evaluation.csv\")\n",
        "\n",
        "buyingMapping = {\"low\": 1, \"med\": 2, \"high\": 3, \"vhigh\": 4}\n",
        "dataFrame[\"buying\"] = dataFrame[\"buying\"].map(buyingMapping)\n",
        "\n",
        "maintMapping = {\"low\": 1, \"med\": 2, \"high\": 3, \"vhigh\": 4}\n",
        "dataFrame[\"maint\"] = dataFrame[\"maint\"].map(maintMapping)\n",
        "\n",
        "doorsMapping = {\"2\": 2, \"3\": 3, \"4\": 4, \"5more\": 5}\n",
        "dataFrame[\"doors\"] = dataFrame[\"doors\"].map(doorsMapping)\n",
        "\n",
        "personsMapping = {\"2\": 2, \"4\": 4, \"more\": 6}\n",
        "dataFrame[\"persons\"] = dataFrame[\"persons\"].map(personsMapping)\n",
        "\n",
        "lugBootMapping = {\"small\": 1, \"med\": 2, \"big\": 3}\n",
        "dataFrame[\"lug_boot\"] = dataFrame[\"lug_boot\"].map(lugBootMapping)\n",
        "\n",
        "safetyMapping = {\"low\": 1, \"med\": 2, \"high\": 3}\n",
        "dataFrame[\"safety\"] = dataFrame[\"safety\"].map(safetyMapping)\n",
        "\n",
        "dataFrameTrain, dataFrameTest = trainTestSplit(dataFrame, testSize = 0.3)\n",
        "\n",
        "print(\"Random Forest - Car Evaluation Dataset\")\n",
        "print(\"  Maximum bootstrap size (n) is {}\".format(dataFrameTrain.shape[0]))\n",
        "print(\"  Maximum random subspace size (d) is {}\".format(dataFrameTrain.shape[1] - 1))"
      ],
      "metadata": {
        "colab": {
          "base_uri": "https://localhost:8080/"
        },
        "id": "lXEhUEvoncmq",
        "outputId": "7367ead1-4aa6-49e9-c703-fb8ac1996283"
      },
      "execution_count": 6,
      "outputs": [
        {
          "output_type": "stream",
          "name": "stdout",
          "text": [
            "Random Forest - Car Evaluation Dataset\n",
            "  Maximum bootstrap size (n) is 1210\n",
            "  Maximum random subspace size (d) is 6\n"
          ]
        }
      ]
    },
    {
      "cell_type": "markdown",
      "source": [
        "#### First time run"
      ],
      "metadata": {
        "id": "dyYGW5PD6zsi"
      }
    },
    {
      "cell_type": "code",
      "source": [
        "startTime = time.time()\n",
        "randomForest = createRandomForest(dataFrameTrain, bootstrapSize = 1000, forestSize = 10, treeMaxDepth = 8)\n",
        "buildingTime = time.time() - startTime\n",
        "randomForestTestResults = randomForestPredictions(dataFrameTest, randomForest)\n",
        "accuracyTest = calculateAccuracy(randomForestTestResults, dataFrameTest.iloc[:, -1]) * 100\n",
        "randomForestTrainResults = randomForestPredictions(dataFrameTrain, randomForest)\n",
        "accuracyTrain = calculateAccuracy(randomForestTrainResults, dataFrameTrain.iloc[:, -1]) * 100\n",
        "print(\"  n = {}, k = {}, maxDepth = {}:\".format(1000, 10, 8))\n",
        "print(\"    accTest = {0:.2f}%, \".format(accuracyTest), end = \"\")\n",
        "print(\"accTrain = {0:.2f}%, \".format(accuracyTrain), end = \"\")\n",
        "print(\"buildTime = {0:.2f}s\".format(buildingTime), end = \"\\n\")\n",
        "\n",
        "num_threads = nb.get_num_threads()\n",
        "print(\"\\n\\nNumber of threads used by Numba:\", num_threads)"
      ],
      "metadata": {
        "colab": {
          "base_uri": "https://localhost:8080/"
        },
        "id": "F1buQncRpDBw",
        "outputId": "9758e70d-18cc-4154-bf73-4ed946df812d"
      },
      "execution_count": 7,
      "outputs": [
        {
          "output_type": "stream",
          "name": "stdout",
          "text": [
            "AVG time to build a Decision Tree = 1.5082955360412598\n",
            "  n = 1000, k = 10, maxDepth = 8:\n",
            "    accTest = 69.31%, accTrain = 70.33%, buildTime = 16.26s\n",
            "\n",
            "\n",
            "Number of threads used by Numba: 2\n"
          ]
        }
      ]
    },
    {
      "cell_type": "markdown",
      "source": [
        "#### Second time run"
      ],
      "metadata": {
        "id": "16gzFghC66tB"
      }
    },
    {
      "cell_type": "code",
      "source": [
        "startTime = time.time()\n",
        "randomForest = createRandomForest(dataFrameTrain, bootstrapSize = 1000, forestSize = 10, treeMaxDepth = 8)\n",
        "buildingTime = time.time() - startTime\n",
        "randomForestTestResults = randomForestPredictions(dataFrameTest, randomForest)\n",
        "accuracyTest = calculateAccuracy(randomForestTestResults, dataFrameTest.iloc[:, -1]) * 100\n",
        "randomForestTrainResults = randomForestPredictions(dataFrameTrain, randomForest)\n",
        "accuracyTrain = calculateAccuracy(randomForestTrainResults, dataFrameTrain.iloc[:, -1]) * 100\n",
        "print(\"  n = {}, k = {}, maxDepth = {}:\".format(1000, 10, 8))\n",
        "print(\"    accTest = {0:.2f}%, \".format(accuracyTest), end = \"\")\n",
        "print(\"accTrain = {0:.2f}%, \".format(accuracyTrain), end = \"\")\n",
        "print(\"buildTime = {0:.2f}s\".format(buildingTime), end = \"\\n\")\n",
        "\n",
        "num_threads = nb.get_num_threads()\n",
        "print(\"\\n\\nNumber of threads used by Numba:\", num_threads)"
      ],
      "metadata": {
        "colab": {
          "base_uri": "https://localhost:8080/"
        },
        "id": "ZJVSWc_868s_",
        "outputId": "5a7e2f42-5b05-4dc4-9902-2f7813d882d3"
      },
      "execution_count": 8,
      "outputs": [
        {
          "output_type": "stream",
          "name": "stdout",
          "text": [
            "AVG time to build a Decision Tree = 0.1110929012298584\n",
            "  n = 1000, k = 10, maxDepth = 8:\n",
            "    accTest = 69.31%, accTrain = 70.33%, buildTime = 1.12s\n",
            "\n",
            "\n",
            "Number of threads used by Numba: 2\n"
          ]
        }
      ]
    },
    {
      "cell_type": "markdown",
      "source": [
        "### Run with breastCancer dataset"
      ],
      "metadata": {
        "id": "fn5KZ9CMpcdO"
      }
    },
    {
      "cell_type": "code",
      "source": [
        "dataFrame = pd.read_csv(\"/content/drive/MyDrive/Bài Tập Về Nhà Môn Cuối/random-forest-from-scratch-main/dataset_files/breast_cancer.csv\")\n",
        "dataFrame = dataFrame.drop(\"id\", axis = 1)\n",
        "dataFrame = dataFrame[dataFrame.columns.tolist()[1: ] + dataFrame.columns.tolist()[0: 1]]\n",
        "dataFrameTrain, dataFrameTest = trainTestSplit(dataFrame, testSize = 0.25)\n",
        "\n",
        "print(\"Random Forest - Breast Cancer Dataset\")\n",
        "print(\"  Maximum bootstrap size (n) is {}\".format(dataFrameTrain.shape[0]))\n",
        "print(\"  Maximum random subspace size (d) is {}\".format(dataFrameTrain.shape[1] - 1))"
      ],
      "metadata": {
        "id": "NyTiCrX0paf5",
        "colab": {
          "base_uri": "https://localhost:8080/"
        },
        "outputId": "9389faec-2ad9-4729-caa2-c3c89cfa401f"
      },
      "execution_count": 9,
      "outputs": [
        {
          "output_type": "stream",
          "name": "stdout",
          "text": [
            "Random Forest - Breast Cancer Dataset\n",
            "  Maximum bootstrap size (n) is 427\n",
            "  Maximum random subspace size (d) is 30\n"
          ]
        }
      ]
    },
    {
      "cell_type": "markdown",
      "source": [
        "#### First time run"
      ],
      "metadata": {
        "id": "p-8sQgfo63kQ"
      }
    },
    {
      "cell_type": "code",
      "source": [
        "startTime = time.time()\n",
        "randomForest = createRandomForest(dataFrameTrain, bootstrapSize = 60, forestSize = 30, treeMaxDepth = 3)\n",
        "buildingTime = time.time() - startTime\n",
        "randomForestTestResults = randomForestPredictions(dataFrameTest, randomForest)\n",
        "accuracyTest = calculateAccuracy(randomForestTestResults, dataFrameTest.iloc[:, -1]) * 100\n",
        "randomForestTrainResults = randomForestPredictions(dataFrameTrain, randomForest)\n",
        "accuracyTrain = calculateAccuracy(randomForestTrainResults, dataFrameTrain.iloc[:, -1]) * 100\n",
        "print(\"  n = {}, k = {}, maxDepth = {}:\".format(60, 30, 3))\n",
        "print(\"    accTest = {0:.2f}%, \".format(accuracyTest), end = \"\")\n",
        "print(\"accTrain = {0:.2f}%, \".format(accuracyTrain), end = \"\")\n",
        "print(\"buildTime = {0:.2f}s\".format(buildingTime), end = \"\\n\")"
      ],
      "metadata": {
        "id": "_Gqc2jyIqFkw",
        "colab": {
          "base_uri": "https://localhost:8080/"
        },
        "outputId": "1c5c78b9-662d-4e5f-facf-96ed9ee492f6"
      },
      "execution_count": 10,
      "outputs": [
        {
          "output_type": "stream",
          "name": "stdout",
          "text": [
            "AVG time to build a Decision Tree = 0.03280168374379476\n",
            "  n = 60, k = 30, maxDepth = 3:\n",
            "    accTest = 58.45%, accTrain = 64.17%, buildTime = 1.00s\n"
          ]
        }
      ]
    },
    {
      "cell_type": "markdown",
      "source": [
        "#### Second time run"
      ],
      "metadata": {
        "id": "X3veTnOe64qS"
      }
    },
    {
      "cell_type": "code",
      "source": [
        "startTime = time.time()\n",
        "randomForest = createRandomForest(dataFrameTrain, bootstrapSize = 60, forestSize = 30, treeMaxDepth = 3)\n",
        "buildingTime = time.time() - startTime\n",
        "randomForestTestResults = randomForestPredictions(dataFrameTest, randomForest)\n",
        "accuracyTest = calculateAccuracy(randomForestTestResults, dataFrameTest.iloc[:, -1]) * 100\n",
        "randomForestTrainResults = randomForestPredictions(dataFrameTrain, randomForest)\n",
        "accuracyTrain = calculateAccuracy(randomForestTrainResults, dataFrameTrain.iloc[:, -1]) * 100\n",
        "print(\"  n = {}, k = {}, maxDepth = {}:\".format(60, 30, 3))\n",
        "print(\"    accTest = {0:.2f}%, \".format(accuracyTest), end = \"\")\n",
        "print(\"accTrain = {0:.2f}%, \".format(accuracyTrain), end = \"\")\n",
        "print(\"buildTime = {0:.2f}s\".format(buildingTime), end = \"\\n\")"
      ],
      "metadata": {
        "colab": {
          "base_uri": "https://localhost:8080/"
        },
        "id": "NIoeT2Z56_hM",
        "outputId": "5b58ed63-91b5-415e-a2a5-621e5a64f0a4"
      },
      "execution_count": 11,
      "outputs": [
        {
          "output_type": "stream",
          "name": "stdout",
          "text": [
            "AVG time to build a Decision Tree = 0.04539896647135417\n",
            "  n = 60, k = 30, maxDepth = 3:\n",
            "    accTest = 58.45%, accTrain = 64.17%, buildTime = 1.38s\n"
          ]
        }
      ]
    }
  ]
}