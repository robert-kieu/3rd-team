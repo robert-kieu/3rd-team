{
  "nbformat": 4,
  "nbformat_minor": 0,
  "metadata": {
    "colab": {
      "provenance": [],
      "gpuType": "T4"
    },
    "kernelspec": {
      "name": "python3",
      "display_name": "Python 3"
    },
    "language_info": {
      "name": "python"
    },
    "accelerator": "GPU"
  },
  "cells": [
    {
      "cell_type": "markdown",
      "source": [
        "# Random forest là gì ?"
      ],
      "metadata": {
        "id": "A5ZduScIKvgX"
      }
    },
    {
      "cell_type": "markdown",
      "source": [
        "## Định nghĩa."
      ],
      "metadata": {
        "id": "DL3eA5s2RMSs"
      }
    },
    {
      "cell_type": "markdown",
      "source": [
        "Random forest là một phương pháp thống kê mô hình hóa bằng máy (machine learning statistic) dùng để phục vụ các mục đích phân loại, hồi quy và các nhiệm vụ khác bằng cách xây dựng nhiều cây quyết định (Decision tree).\n",
        "\n",
        "[_Nguồn_](https://jgac.vn/journal/article/view/344#:~:text=Random%20forest%20l%C3%A0%20m%E1%BB%99t%20ph%C6%B0%C6%A1ng,quy%E1%BA%BFt%20%C4%91%E1%BB%8Bnh%20(Decision%20tree).)\n",
        "\n",
        "Random Forest được ghi nhận hiệu quả hơn so với thuật toán phân loại khác thường được sử dụng vì có khả năng tìm ra thuộc tính nào quan trọng hơn so với những thuộc tính khác.\n",
        "\n",
        "</br>\n",
        "\n",
        "![](https://res.cloudinary.com/dyd911kmh/image/upload/v1677239993/image5_c214968fd6.png)\n",
        "\n",
        "<br>\n",
        "\n",
        "**Ưu điểm:**\n",
        "\n",
        "Random forests được coi là một phương pháp chính xác và mạnh mẽ vì số cây quyết định tham gia vào quá trình này. Thuật toán có thể được sử dụng trong cả hai vấn đề phân loại và hồi quy.\n",
        "\n",
        "<br>\n",
        "\n",
        "**Nhược điểm:**\n",
        "\n",
        "Random forests chậm tạo dự đoán bởi vì nó có nhiều cây quyết định. Bất cứ khi nào nó đưa ra dự đoán, tất cả các cây trong rừng phải đưa ra dự đoán cho cùng một đầu vào cho trước và sau đó thực hiện bỏ phiếu trên đó. Toàn bộ quá trình này tốn rất nhiều thời gian.\n",
        "\n",
        "Mô hình khó hiểu hơn so với cây quyết định, nơi ta có thể dễ dàng đưa ra quyết định bằng cách đi theo đường dẫn trong cây."
      ],
      "metadata": {
        "id": "vVF57YJxKnDP"
      }
    },
    {
      "cell_type": "markdown",
      "source": [
        "## Cách thức hoạt động."
      ],
      "metadata": {
        "id": "eR7caJRLN6X4"
      }
    },
    {
      "cell_type": "markdown",
      "source": [
        "1. Chọn các mẫu ngẫu nhiên từ tập dữ liệu đã cho.\n",
        "\n",
        "2. Thiết lập cây quyết định cho từng mẫu và nhận kết quả dự đoán từ mỗi quyết định cây.\n",
        "\n",
        "3. Bỏ phiếu cho mỗi kết quả dự đoán.\n",
        "\n",
        "4. Chọn kết quả được dự đoán nhiều nhất làm dự đoán cuối cùng.\n",
        "\n",
        "<br>\n",
        "\n",
        "![](https://images.viblo.asia/33adb558-67ba-4262-809e-3f8a8348e0c8.png)"
      ],
      "metadata": {
        "id": "uGUNsC3lN-MM"
      }
    },
    {
      "cell_type": "markdown",
      "source": [
        "## Decision tree."
      ],
      "metadata": {
        "id": "P236eSEqcLSG"
      }
    },
    {
      "cell_type": "markdown",
      "source": [
        "Decision tree (cây quyết định) là một mô hình học máy dựa trên việc xây dựng cây có cấu trúc phân cấp để đưa ra các quyết định hoặc dự đoán. Cây quyết định được sử dụng chủ yếu trong bài toán phân loại (classification) và dự đoán (prediction).\n",
        "\n",
        "<br>\n",
        "\n",
        "Cây quyết định có cấu trúc giống cây với các nút (node) và các nhánh (branch). Các nút trong cây đại diện cho các quyết định hoặc các thuộc tính và các nhánh đại diện cho các kết quả hoặc các lựa chọn khả thi. Từ nút gốc, cây phân nhánh xuống các nút con dựa trên giá trị của thuộc tính được chọn để tối ưu hóa việc phân loại hoặc dự đoán. Quá trình này tiếp tục cho đến khi đạt được các nút lá (leaf node) đại diện cho các kết quả cuối cùng.\n",
        "\n",
        "<br>\n",
        "\n",
        "![](https://insidelearningmachines.com/wp-content/uploads/2021/02/tree_diagram.png)\n",
        "\n",
        "<br>\n",
        "\n",
        "Trong quá trình xây dựng cây quyết định, thuật toán sẽ sử dụng các tiêu chí như information gain (lợi ích thông tin), Gini index hoặc chi-square để đánh giá và lựa chọn thuộc tính phân nhánh tốt nhất. Các quyết định và dự đoán được thực hiện bằng cách đi xuống cây theo các nhánh tương ứng với các giá trị thuộc tính.\n",
        "\n",
        "<br>\n",
        "\n",
        "Trong bài toán này, team sẽ sử dụng information gain, cụ thể là overall entropy để tính toán cho nhanh vì `minimun overall entropy` = `maximun information gain`. Công thức tính như sau:\n",
        "\n",
        "<br>\n",
        "\n",
        "$ Overall Entropy = p_1 * Entropy(S_1) + p_2 * Entropy(S_2) + ... + p_n * Entropy(S_n)$\n",
        "\n",
        "Trong đó:\n",
        "\n",
        "- Overall Entropy là overall entropy.\n",
        "- p1, p2, ..., pn là tỷ lệ số lượng mẫu trong các tập dữ liệu con S1, S2, ..., Sn.\n",
        "- Entropy(S1), Entropy(S2), ..., Entropy(Sn) là entropy của các tập dữ liệu con.\n",
        "\n",
        "<br>\n",
        "\n",
        "Công thức tính entropy:\n",
        "\n",
        "$ Entropy(S) = - ∑ (p_i * log2(p_i)) $\n",
        "\n",
        "Trong đó:\n",
        "\n",
        "- Entropy(S) là entropy của tập dữ liệu S.\n",
        "- $p_i$ là tỷ lệ số lượng mẫu thuộc vào lớp i trong tập dữ liệu S.\n",
        "- log2 là hàm logarithm cơ số 2.\n",
        "\n"
      ],
      "metadata": {
        "id": "bB5vZdWAcO2F"
      }
    },
    {
      "cell_type": "markdown",
      "source": [
        "## Ứng dụng thực tế."
      ],
      "metadata": {
        "id": "0W1PgE0pMqNd"
      }
    },
    {
      "cell_type": "markdown",
      "source": [
        "Chủ yếu áp dụng vào việc giải các bài toán liên quan đến phân loại và hồi quy.\n",
        "\n",
        "<br>\n",
        "\n",
        "**Ví dụ:** Phân loại bệnh hoặc dự đoán giá cả hàng hóa trong tương lai."
      ],
      "metadata": {
        "id": "JmyiR-gVN5WA"
      }
    },
    {
      "cell_type": "markdown",
      "source": [
        "# Hướng phát triển của nhóm."
      ],
      "metadata": {
        "id": "51jRU8qnRRNW"
      }
    },
    {
      "cell_type": "markdown",
      "source": [
        "Áp dụng Numba, CUDA để chạy song song cho thuật toán Random forest nhằm mục đích cài thiện tốc độ trong quá trình sử dụng. Tiết kiệm thời gian huấn luyện và tận dụng tốt tài nguyên máy tính."
      ],
      "metadata": {
        "id": "IDh9aMAYRcva"
      }
    },
    {
      "cell_type": "markdown",
      "source": [
        "# Nguồn tài liệu."
      ],
      "metadata": {
        "id": "w6TjupWzCZ1R"
      }
    },
    {
      "cell_type": "markdown",
      "source": [
        "Nhóm tìm được thuật toán Random Forest từ một [nguồn trên github](https://github.com/harrypnh/random-forest-from-scratch), họ implement thuật toán với 2 mục đích chính: chẩn đoán bệnh ung thư vú và đánh giá ô tô ( Car Evalution ).\n",
        "\n",
        "<br>\n",
        "\n",
        "**Tại sao lại chọn từ nguồn này?**\n",
        "\n",
        "Vì họ xây dựng thuật toán Random Forest theo hàm chứ không xây theo class, điều này khiến cho quá trình làm việc với numba trở nên dễ dàng hơn.\n"
      ],
      "metadata": {
        "id": "2tykp_EBC2EQ"
      }
    },
    {
      "cell_type": "markdown",
      "source": [
        "# Dữ liệu đầu vào."
      ],
      "metadata": {
        "id": "T4xfl4NsDDhG"
      }
    },
    {
      "cell_type": "code",
      "source": [
        "import pandas as pd\n",
        "\n",
        "from google.colab import drive\n",
        "drive.mount('/content/drive')"
      ],
      "metadata": {
        "colab": {
          "base_uri": "https://localhost:8080/"
        },
        "id": "CdkJB-mU6vhA",
        "outputId": "354f416e-653a-4654-e340-95c88d89fd4d"
      },
      "execution_count": 1,
      "outputs": [
        {
          "output_type": "stream",
          "name": "stdout",
          "text": [
            "Drive already mounted at /content/drive; to attempt to forcibly remount, call drive.mount(\"/content/drive\", force_remount=True).\n"
          ]
        }
      ]
    },
    {
      "cell_type": "markdown",
      "source": [
        "Về phần dataset, nhóm sẽ dùng lại 2 datasets có sẵn trong nguồn github ở trên:\n",
        "\n",
        "- `car_evaluation.csv` - Tập này có kích thước 1728 x 7 với cột gồm:\n",
        "\n",
        "1. buying: Thể hiện giá mua xe. Nó có thể có các giá trị \"vhigh\" (rất cao), \"cao\", \"med\" (trung bình) hoặc \"thấp\".\n",
        "\n",
        "2. maint: Biểu thị giá bảo dưỡng của xe. Nó có thể nhận các giá trị \"vhigh\" (rất cao), \"cao\", \"med\" (trung bình) hoặc \"thấp\".\n",
        "\n",
        "3. doors: Cho biết số lượng cửa có trong xe. Nó có thể có các giá trị \"2\", \"3\", \"4\" hoặc \"5more\" (đại diện cho 5 cửa trở lên).\n",
        "\n",
        "4. persons: Thể hiện sức chở của xe về số người chở. Nó có thể có các giá trị \"2\", \"4\", \"more\" (cho biết sức chứa cho hơn 4 người).\n",
        "\n",
        "5. Lug_boot: Biểu thị kích thước không gian cốp (cốp) xe. Nó có thể nhận các giá trị \"nhỏ\", \"med\" (trung bình) hoặc \"lớn\".\n",
        "\n",
        "6. safety: Thể hiện mức độ an toàn của xe. Nó có thể có các giá trị \"thấp\", \"trung bình\" (trung bình) hoặc \"cao\".\n",
        "\n",
        "7. class: Thể hiện hạng đánh giá của xe. Nó thể hiện khả năng chấp nhận được của ô tô và có thể có các giá trị \"unacc\" (không thể chấp nhận được), \"acc\" (có thể chấp nhận được), \"tốt\" hoặc \"vgood\" (rất tốt)."
      ],
      "metadata": {
        "id": "EUw0852TDGmV"
      }
    },
    {
      "cell_type": "code",
      "source": [
        "car_evaluation = pd.read_csv(\"/content/drive/MyDrive/Bài Tập Về Nhà Môn Cuối/random-forest-from-scratch-main/dataset_files/car_evaluation.csv\")"
      ],
      "metadata": {
        "id": "FXz1Q6La6tv9"
      },
      "execution_count": 2,
      "outputs": []
    },
    {
      "cell_type": "code",
      "source": [
        "car_evaluation.head(5)"
      ],
      "metadata": {
        "colab": {
          "base_uri": "https://localhost:8080/",
          "height": 206
        },
        "id": "tnopYlzc7Knj",
        "outputId": "b80cbd2c-306e-474b-d26a-6a927313593e"
      },
      "execution_count": 4,
      "outputs": [
        {
          "output_type": "execute_result",
          "data": {
            "text/plain": [
              "  buying  maint doors persons lug_boot safety  class\n",
              "0  vhigh  vhigh     2       2    small    low  unacc\n",
              "1  vhigh  vhigh     2       2    small    med  unacc\n",
              "2  vhigh  vhigh     2       2    small   high  unacc\n",
              "3  vhigh  vhigh     2       2      med    low  unacc\n",
              "4  vhigh  vhigh     2       2      med    med  unacc"
            ],
            "text/html": [
              "\n",
              "\n",
              "  <div id=\"df-dcdfb6da-8fe3-48af-be37-9342b20975e0\">\n",
              "    <div class=\"colab-df-container\">\n",
              "      <div>\n",
              "<style scoped>\n",
              "    .dataframe tbody tr th:only-of-type {\n",
              "        vertical-align: middle;\n",
              "    }\n",
              "\n",
              "    .dataframe tbody tr th {\n",
              "        vertical-align: top;\n",
              "    }\n",
              "\n",
              "    .dataframe thead th {\n",
              "        text-align: right;\n",
              "    }\n",
              "</style>\n",
              "<table border=\"1\" class=\"dataframe\">\n",
              "  <thead>\n",
              "    <tr style=\"text-align: right;\">\n",
              "      <th></th>\n",
              "      <th>buying</th>\n",
              "      <th>maint</th>\n",
              "      <th>doors</th>\n",
              "      <th>persons</th>\n",
              "      <th>lug_boot</th>\n",
              "      <th>safety</th>\n",
              "      <th>class</th>\n",
              "    </tr>\n",
              "  </thead>\n",
              "  <tbody>\n",
              "    <tr>\n",
              "      <th>0</th>\n",
              "      <td>vhigh</td>\n",
              "      <td>vhigh</td>\n",
              "      <td>2</td>\n",
              "      <td>2</td>\n",
              "      <td>small</td>\n",
              "      <td>low</td>\n",
              "      <td>unacc</td>\n",
              "    </tr>\n",
              "    <tr>\n",
              "      <th>1</th>\n",
              "      <td>vhigh</td>\n",
              "      <td>vhigh</td>\n",
              "      <td>2</td>\n",
              "      <td>2</td>\n",
              "      <td>small</td>\n",
              "      <td>med</td>\n",
              "      <td>unacc</td>\n",
              "    </tr>\n",
              "    <tr>\n",
              "      <th>2</th>\n",
              "      <td>vhigh</td>\n",
              "      <td>vhigh</td>\n",
              "      <td>2</td>\n",
              "      <td>2</td>\n",
              "      <td>small</td>\n",
              "      <td>high</td>\n",
              "      <td>unacc</td>\n",
              "    </tr>\n",
              "    <tr>\n",
              "      <th>3</th>\n",
              "      <td>vhigh</td>\n",
              "      <td>vhigh</td>\n",
              "      <td>2</td>\n",
              "      <td>2</td>\n",
              "      <td>med</td>\n",
              "      <td>low</td>\n",
              "      <td>unacc</td>\n",
              "    </tr>\n",
              "    <tr>\n",
              "      <th>4</th>\n",
              "      <td>vhigh</td>\n",
              "      <td>vhigh</td>\n",
              "      <td>2</td>\n",
              "      <td>2</td>\n",
              "      <td>med</td>\n",
              "      <td>med</td>\n",
              "      <td>unacc</td>\n",
              "    </tr>\n",
              "  </tbody>\n",
              "</table>\n",
              "</div>\n",
              "      <button class=\"colab-df-convert\" onclick=\"convertToInteractive('df-dcdfb6da-8fe3-48af-be37-9342b20975e0')\"\n",
              "              title=\"Convert this dataframe to an interactive table.\"\n",
              "              style=\"display:none;\">\n",
              "\n",
              "  <svg xmlns=\"http://www.w3.org/2000/svg\" height=\"24px\"viewBox=\"0 0 24 24\"\n",
              "       width=\"24px\">\n",
              "    <path d=\"M0 0h24v24H0V0z\" fill=\"none\"/>\n",
              "    <path d=\"M18.56 5.44l.94 2.06.94-2.06 2.06-.94-2.06-.94-.94-2.06-.94 2.06-2.06.94zm-11 1L8.5 8.5l.94-2.06 2.06-.94-2.06-.94L8.5 2.5l-.94 2.06-2.06.94zm10 10l.94 2.06.94-2.06 2.06-.94-2.06-.94-.94-2.06-.94 2.06-2.06.94z\"/><path d=\"M17.41 7.96l-1.37-1.37c-.4-.4-.92-.59-1.43-.59-.52 0-1.04.2-1.43.59L10.3 9.45l-7.72 7.72c-.78.78-.78 2.05 0 2.83L4 21.41c.39.39.9.59 1.41.59.51 0 1.02-.2 1.41-.59l7.78-7.78 2.81-2.81c.8-.78.8-2.07 0-2.86zM5.41 20L4 18.59l7.72-7.72 1.47 1.35L5.41 20z\"/>\n",
              "  </svg>\n",
              "      </button>\n",
              "\n",
              "\n",
              "\n",
              "    <div id=\"df-a9965800-8006-46a5-bbe3-2e5fc8b40215\">\n",
              "      <button class=\"colab-df-quickchart\" onclick=\"quickchart('df-a9965800-8006-46a5-bbe3-2e5fc8b40215')\"\n",
              "              title=\"Suggest charts.\"\n",
              "              style=\"display:none;\">\n",
              "\n",
              "<svg xmlns=\"http://www.w3.org/2000/svg\" height=\"24px\"viewBox=\"0 0 24 24\"\n",
              "     width=\"24px\">\n",
              "    <g>\n",
              "        <path d=\"M19 3H5c-1.1 0-2 .9-2 2v14c0 1.1.9 2 2 2h14c1.1 0 2-.9 2-2V5c0-1.1-.9-2-2-2zM9 17H7v-7h2v7zm4 0h-2V7h2v10zm4 0h-2v-4h2v4z\"/>\n",
              "    </g>\n",
              "</svg>\n",
              "      </button>\n",
              "    </div>\n",
              "\n",
              "<style>\n",
              "  .colab-df-quickchart {\n",
              "    background-color: #E8F0FE;\n",
              "    border: none;\n",
              "    border-radius: 50%;\n",
              "    cursor: pointer;\n",
              "    display: none;\n",
              "    fill: #1967D2;\n",
              "    height: 32px;\n",
              "    padding: 0 0 0 0;\n",
              "    width: 32px;\n",
              "  }\n",
              "\n",
              "  .colab-df-quickchart:hover {\n",
              "    background-color: #E2EBFA;\n",
              "    box-shadow: 0px 1px 2px rgba(60, 64, 67, 0.3), 0px 1px 3px 1px rgba(60, 64, 67, 0.15);\n",
              "    fill: #174EA6;\n",
              "  }\n",
              "\n",
              "  [theme=dark] .colab-df-quickchart {\n",
              "    background-color: #3B4455;\n",
              "    fill: #D2E3FC;\n",
              "  }\n",
              "\n",
              "  [theme=dark] .colab-df-quickchart:hover {\n",
              "    background-color: #434B5C;\n",
              "    box-shadow: 0px 1px 3px 1px rgba(0, 0, 0, 0.15);\n",
              "    filter: drop-shadow(0px 1px 2px rgba(0, 0, 0, 0.3));\n",
              "    fill: #FFFFFF;\n",
              "  }\n",
              "</style>\n",
              "\n",
              "    <script>\n",
              "      async function quickchart(key) {\n",
              "        const containerElement = document.querySelector('#' + key);\n",
              "        const charts = await google.colab.kernel.invokeFunction(\n",
              "            'suggestCharts', [key], {});\n",
              "      }\n",
              "    </script>\n",
              "\n",
              "      <script>\n",
              "\n",
              "function displayQuickchartButton(domScope) {\n",
              "  let quickchartButtonEl =\n",
              "    domScope.querySelector('#df-a9965800-8006-46a5-bbe3-2e5fc8b40215 button.colab-df-quickchart');\n",
              "  quickchartButtonEl.style.display =\n",
              "    google.colab.kernel.accessAllowed ? 'block' : 'none';\n",
              "}\n",
              "\n",
              "        displayQuickchartButton(document);\n",
              "      </script>\n",
              "      <style>\n",
              "    .colab-df-container {\n",
              "      display:flex;\n",
              "      flex-wrap:wrap;\n",
              "      gap: 12px;\n",
              "    }\n",
              "\n",
              "    .colab-df-convert {\n",
              "      background-color: #E8F0FE;\n",
              "      border: none;\n",
              "      border-radius: 50%;\n",
              "      cursor: pointer;\n",
              "      display: none;\n",
              "      fill: #1967D2;\n",
              "      height: 32px;\n",
              "      padding: 0 0 0 0;\n",
              "      width: 32px;\n",
              "    }\n",
              "\n",
              "    .colab-df-convert:hover {\n",
              "      background-color: #E2EBFA;\n",
              "      box-shadow: 0px 1px 2px rgba(60, 64, 67, 0.3), 0px 1px 3px 1px rgba(60, 64, 67, 0.15);\n",
              "      fill: #174EA6;\n",
              "    }\n",
              "\n",
              "    [theme=dark] .colab-df-convert {\n",
              "      background-color: #3B4455;\n",
              "      fill: #D2E3FC;\n",
              "    }\n",
              "\n",
              "    [theme=dark] .colab-df-convert:hover {\n",
              "      background-color: #434B5C;\n",
              "      box-shadow: 0px 1px 3px 1px rgba(0, 0, 0, 0.15);\n",
              "      filter: drop-shadow(0px 1px 2px rgba(0, 0, 0, 0.3));\n",
              "      fill: #FFFFFF;\n",
              "    }\n",
              "  </style>\n",
              "\n",
              "      <script>\n",
              "        const buttonEl =\n",
              "          document.querySelector('#df-dcdfb6da-8fe3-48af-be37-9342b20975e0 button.colab-df-convert');\n",
              "        buttonEl.style.display =\n",
              "          google.colab.kernel.accessAllowed ? 'block' : 'none';\n",
              "\n",
              "        async function convertToInteractive(key) {\n",
              "          const element = document.querySelector('#df-dcdfb6da-8fe3-48af-be37-9342b20975e0');\n",
              "          const dataTable =\n",
              "            await google.colab.kernel.invokeFunction('convertToInteractive',\n",
              "                                                     [key], {});\n",
              "          if (!dataTable) return;\n",
              "\n",
              "          const docLinkHtml = 'Like what you see? Visit the ' +\n",
              "            '<a target=\"_blank\" href=https://colab.research.google.com/notebooks/data_table.ipynb>data table notebook</a>'\n",
              "            + ' to learn more about interactive tables.';\n",
              "          element.innerHTML = '';\n",
              "          dataTable['output_type'] = 'display_data';\n",
              "          await google.colab.output.renderOutput(dataTable, element);\n",
              "          const docLink = document.createElement('div');\n",
              "          docLink.innerHTML = docLinkHtml;\n",
              "          element.appendChild(docLink);\n",
              "        }\n",
              "      </script>\n",
              "    </div>\n",
              "  </div>\n"
            ]
          },
          "metadata": {},
          "execution_count": 4
        }
      ]
    },
    {
      "cell_type": "code",
      "source": [
        "car_evaluation.shape"
      ],
      "metadata": {
        "colab": {
          "base_uri": "https://localhost:8080/"
        },
        "id": "4PZioYyc7IK-",
        "outputId": "2197cf7b-daac-4d81-94f3-465aa96eeb6f"
      },
      "execution_count": 3,
      "outputs": [
        {
          "output_type": "execute_result",
          "data": {
            "text/plain": [
              "(1728, 7)"
            ]
          },
          "metadata": {},
          "execution_count": 3
        }
      ]
    },
    {
      "cell_type": "markdown",
      "source": [
        "- `breast_cancer.csv` - Tập này có kích thước 569 x 32 với cột gồm:\n",
        "\n",
        "1. Radius_mean: Giá trị trung bình của khoảng cách từ tâm đến các điểm trên chu vi của khối u.\n",
        "2. texture_mean: Độ lệch chuẩn của các giá trị thang độ xám trong ảnh.\n",
        "3. Perimeter_mean: Tổng chiều dài của ranh giới khối u.\n",
        "4. area_mean: Diện tích khối u.\n",
        "5. smooth_mean: Sự thay đổi về độ dài bán kính.\n",
        "6. compactness_mean: Độ nén được tính bằng bình phương chu vi chia cho diện tích.\n",
        "7. concavity_mean: Mức độ nghiêm trọng của các phần lõm của đường viền.\n",
        "8. concave_points_mean: Số phần lõm của đường viền.\n",
        "9. symmetry_mean: Tính đối xứng của khối u.\n",
        "10. fractal_dimension_mean: Kích thước fractal của ranh giới khối u.\n",
        "11. Radius_se: Sai số chuẩn của khoảng cách từ tâm đến các điểm trên chu vi.\n",
        "12. texture_se: Sai số chuẩn của các giá trị thang độ xám trong ảnh.\n",
        "13. Perimeter_se: Sai số chuẩn về độ dài của ranh giới khối u.\n",
        "14. area_se: Sai số chuẩn của vùng khối u.\n",
        "15. smooth_se: Sai số chuẩn của sự thay đổi độ dài bán kính.\n",
        "16. compactness_se: Sai số chuẩn về độ nén của khối u.\n",
        "17. concavity_se: Sai số chuẩn của độ lõm khối u.\n",
        "18. concave_points_se: Sai số chuẩn của điểm lõm khối u.\n",
        "19. symmetry_se: Sai số chuẩn của khối u đối xứng.\n",
        "20. fractal_dimension_se: Sai số chuẩn của kích thước fractal khối u.\n",
        "21. Radius_worst: Giá trị trung bình nhỏ nhất hoặc lớn nhất của khoảng cách từ tâm đến các điểm trên chu vi.\n",
        "22. texture_worst: Giá trị trung bình xấu nhất hoặc lớn nhất của các giá trị thang độ xám trong ảnh.\n",
        "23. Perimeter_worst: Giá trị trung bình xấu nhất hoặc lớn nhất của độ dài ranh giới khối u.\n",
        "24. area_worst: Giá trị trung bình xấu nhất hoặc lớn nhất của khu vực khối u.\n",
        "25. smooth_worst: Giá trị trung bình xấu nhất hoặc lớn nhất của sự thay đổi độ dài bán kính.\n",
        "26. compactness_worst: Giá trị trung bình nhỏ nhất hoặc lớn nhất của độ nhỏ gọn của khối u.\n",
        "27. concavity_worst: Giá trị trung bình xấu nhất hoặc lớn nhất của độ lõm khối u.\n",
        "28. concave_points_worst: Giá trị trung bình xấu nhất hoặc lớn nhất của các điểm lõm khối u.\n",
        "29. Symmetry_worst: Giá trị trung bình xấu nhất hoặc lớn nhất của tính đối xứng khối u.\n",
        "30. fractal_dimension_worst: Giá trị trung bình nhỏ nhất hoặc lớn nhất của kích thước fractal khối u.\n",
        "\n",
        "31. diagnosis: Phân loại \"M\" = ác tính, \"B\" Lành tính.\n",
        "32. id: Mã bệnh nhân."
      ],
      "metadata": {
        "id": "KsL7Fx_E7na5"
      }
    },
    {
      "cell_type": "code",
      "source": [
        "breast_cancer = pd.read_csv(\"/content/drive/MyDrive/Bài Tập Về Nhà Môn Cuối/random-forest-from-scratch-main/dataset_files/breast_cancer.csv\")"
      ],
      "metadata": {
        "id": "E6fWRv3O-bcC"
      },
      "execution_count": 5,
      "outputs": []
    },
    {
      "cell_type": "code",
      "source": [
        "breast_cancer.head(5)"
      ],
      "metadata": {
        "colab": {
          "base_uri": "https://localhost:8080/",
          "height": 317
        },
        "id": "XLlZuVvv-j8r",
        "outputId": "d679d2af-2193-4d95-bfaa-fd4d7a4f7386"
      },
      "execution_count": 7,
      "outputs": [
        {
          "output_type": "execute_result",
          "data": {
            "text/plain": [
              "         id diagnosis  radius_mean  texture_mean  perimeter_mean  area_mean  \\\n",
              "0    842302         M        17.99         10.38          122.80     1001.0   \n",
              "1    842517         M        20.57         17.77          132.90     1326.0   \n",
              "2  84300903         M        19.69         21.25          130.00     1203.0   \n",
              "3  84348301         M        11.42         20.38           77.58      386.1   \n",
              "4  84358402         M        20.29         14.34          135.10     1297.0   \n",
              "\n",
              "   smoothness_mean  compactness_mean  concavity_mean  concave points_mean  \\\n",
              "0          0.11840           0.27760          0.3001              0.14710   \n",
              "1          0.08474           0.07864          0.0869              0.07017   \n",
              "2          0.10960           0.15990          0.1974              0.12790   \n",
              "3          0.14250           0.28390          0.2414              0.10520   \n",
              "4          0.10030           0.13280          0.1980              0.10430   \n",
              "\n",
              "   ...  radius_worst  texture_worst  perimeter_worst  area_worst  \\\n",
              "0  ...         25.38          17.33           184.60      2019.0   \n",
              "1  ...         24.99          23.41           158.80      1956.0   \n",
              "2  ...         23.57          25.53           152.50      1709.0   \n",
              "3  ...         14.91          26.50            98.87       567.7   \n",
              "4  ...         22.54          16.67           152.20      1575.0   \n",
              "\n",
              "   smoothness_worst  compactness_worst  concavity_worst  concave points_worst  \\\n",
              "0            0.1622             0.6656           0.7119                0.2654   \n",
              "1            0.1238             0.1866           0.2416                0.1860   \n",
              "2            0.1444             0.4245           0.4504                0.2430   \n",
              "3            0.2098             0.8663           0.6869                0.2575   \n",
              "4            0.1374             0.2050           0.4000                0.1625   \n",
              "\n",
              "   symmetry_worst  fractal_dimension_worst  \n",
              "0          0.4601                  0.11890  \n",
              "1          0.2750                  0.08902  \n",
              "2          0.3613                  0.08758  \n",
              "3          0.6638                  0.17300  \n",
              "4          0.2364                  0.07678  \n",
              "\n",
              "[5 rows x 32 columns]"
            ],
            "text/html": [
              "\n",
              "\n",
              "  <div id=\"df-6eb086f6-2a23-41cd-a7d2-601e791aca52\">\n",
              "    <div class=\"colab-df-container\">\n",
              "      <div>\n",
              "<style scoped>\n",
              "    .dataframe tbody tr th:only-of-type {\n",
              "        vertical-align: middle;\n",
              "    }\n",
              "\n",
              "    .dataframe tbody tr th {\n",
              "        vertical-align: top;\n",
              "    }\n",
              "\n",
              "    .dataframe thead th {\n",
              "        text-align: right;\n",
              "    }\n",
              "</style>\n",
              "<table border=\"1\" class=\"dataframe\">\n",
              "  <thead>\n",
              "    <tr style=\"text-align: right;\">\n",
              "      <th></th>\n",
              "      <th>id</th>\n",
              "      <th>diagnosis</th>\n",
              "      <th>radius_mean</th>\n",
              "      <th>texture_mean</th>\n",
              "      <th>perimeter_mean</th>\n",
              "      <th>area_mean</th>\n",
              "      <th>smoothness_mean</th>\n",
              "      <th>compactness_mean</th>\n",
              "      <th>concavity_mean</th>\n",
              "      <th>concave points_mean</th>\n",
              "      <th>...</th>\n",
              "      <th>radius_worst</th>\n",
              "      <th>texture_worst</th>\n",
              "      <th>perimeter_worst</th>\n",
              "      <th>area_worst</th>\n",
              "      <th>smoothness_worst</th>\n",
              "      <th>compactness_worst</th>\n",
              "      <th>concavity_worst</th>\n",
              "      <th>concave points_worst</th>\n",
              "      <th>symmetry_worst</th>\n",
              "      <th>fractal_dimension_worst</th>\n",
              "    </tr>\n",
              "  </thead>\n",
              "  <tbody>\n",
              "    <tr>\n",
              "      <th>0</th>\n",
              "      <td>842302</td>\n",
              "      <td>M</td>\n",
              "      <td>17.99</td>\n",
              "      <td>10.38</td>\n",
              "      <td>122.80</td>\n",
              "      <td>1001.0</td>\n",
              "      <td>0.11840</td>\n",
              "      <td>0.27760</td>\n",
              "      <td>0.3001</td>\n",
              "      <td>0.14710</td>\n",
              "      <td>...</td>\n",
              "      <td>25.38</td>\n",
              "      <td>17.33</td>\n",
              "      <td>184.60</td>\n",
              "      <td>2019.0</td>\n",
              "      <td>0.1622</td>\n",
              "      <td>0.6656</td>\n",
              "      <td>0.7119</td>\n",
              "      <td>0.2654</td>\n",
              "      <td>0.4601</td>\n",
              "      <td>0.11890</td>\n",
              "    </tr>\n",
              "    <tr>\n",
              "      <th>1</th>\n",
              "      <td>842517</td>\n",
              "      <td>M</td>\n",
              "      <td>20.57</td>\n",
              "      <td>17.77</td>\n",
              "      <td>132.90</td>\n",
              "      <td>1326.0</td>\n",
              "      <td>0.08474</td>\n",
              "      <td>0.07864</td>\n",
              "      <td>0.0869</td>\n",
              "      <td>0.07017</td>\n",
              "      <td>...</td>\n",
              "      <td>24.99</td>\n",
              "      <td>23.41</td>\n",
              "      <td>158.80</td>\n",
              "      <td>1956.0</td>\n",
              "      <td>0.1238</td>\n",
              "      <td>0.1866</td>\n",
              "      <td>0.2416</td>\n",
              "      <td>0.1860</td>\n",
              "      <td>0.2750</td>\n",
              "      <td>0.08902</td>\n",
              "    </tr>\n",
              "    <tr>\n",
              "      <th>2</th>\n",
              "      <td>84300903</td>\n",
              "      <td>M</td>\n",
              "      <td>19.69</td>\n",
              "      <td>21.25</td>\n",
              "      <td>130.00</td>\n",
              "      <td>1203.0</td>\n",
              "      <td>0.10960</td>\n",
              "      <td>0.15990</td>\n",
              "      <td>0.1974</td>\n",
              "      <td>0.12790</td>\n",
              "      <td>...</td>\n",
              "      <td>23.57</td>\n",
              "      <td>25.53</td>\n",
              "      <td>152.50</td>\n",
              "      <td>1709.0</td>\n",
              "      <td>0.1444</td>\n",
              "      <td>0.4245</td>\n",
              "      <td>0.4504</td>\n",
              "      <td>0.2430</td>\n",
              "      <td>0.3613</td>\n",
              "      <td>0.08758</td>\n",
              "    </tr>\n",
              "    <tr>\n",
              "      <th>3</th>\n",
              "      <td>84348301</td>\n",
              "      <td>M</td>\n",
              "      <td>11.42</td>\n",
              "      <td>20.38</td>\n",
              "      <td>77.58</td>\n",
              "      <td>386.1</td>\n",
              "      <td>0.14250</td>\n",
              "      <td>0.28390</td>\n",
              "      <td>0.2414</td>\n",
              "      <td>0.10520</td>\n",
              "      <td>...</td>\n",
              "      <td>14.91</td>\n",
              "      <td>26.50</td>\n",
              "      <td>98.87</td>\n",
              "      <td>567.7</td>\n",
              "      <td>0.2098</td>\n",
              "      <td>0.8663</td>\n",
              "      <td>0.6869</td>\n",
              "      <td>0.2575</td>\n",
              "      <td>0.6638</td>\n",
              "      <td>0.17300</td>\n",
              "    </tr>\n",
              "    <tr>\n",
              "      <th>4</th>\n",
              "      <td>84358402</td>\n",
              "      <td>M</td>\n",
              "      <td>20.29</td>\n",
              "      <td>14.34</td>\n",
              "      <td>135.10</td>\n",
              "      <td>1297.0</td>\n",
              "      <td>0.10030</td>\n",
              "      <td>0.13280</td>\n",
              "      <td>0.1980</td>\n",
              "      <td>0.10430</td>\n",
              "      <td>...</td>\n",
              "      <td>22.54</td>\n",
              "      <td>16.67</td>\n",
              "      <td>152.20</td>\n",
              "      <td>1575.0</td>\n",
              "      <td>0.1374</td>\n",
              "      <td>0.2050</td>\n",
              "      <td>0.4000</td>\n",
              "      <td>0.1625</td>\n",
              "      <td>0.2364</td>\n",
              "      <td>0.07678</td>\n",
              "    </tr>\n",
              "  </tbody>\n",
              "</table>\n",
              "<p>5 rows × 32 columns</p>\n",
              "</div>\n",
              "      <button class=\"colab-df-convert\" onclick=\"convertToInteractive('df-6eb086f6-2a23-41cd-a7d2-601e791aca52')\"\n",
              "              title=\"Convert this dataframe to an interactive table.\"\n",
              "              style=\"display:none;\">\n",
              "\n",
              "  <svg xmlns=\"http://www.w3.org/2000/svg\" height=\"24px\"viewBox=\"0 0 24 24\"\n",
              "       width=\"24px\">\n",
              "    <path d=\"M0 0h24v24H0V0z\" fill=\"none\"/>\n",
              "    <path d=\"M18.56 5.44l.94 2.06.94-2.06 2.06-.94-2.06-.94-.94-2.06-.94 2.06-2.06.94zm-11 1L8.5 8.5l.94-2.06 2.06-.94-2.06-.94L8.5 2.5l-.94 2.06-2.06.94zm10 10l.94 2.06.94-2.06 2.06-.94-2.06-.94-.94-2.06-.94 2.06-2.06.94z\"/><path d=\"M17.41 7.96l-1.37-1.37c-.4-.4-.92-.59-1.43-.59-.52 0-1.04.2-1.43.59L10.3 9.45l-7.72 7.72c-.78.78-.78 2.05 0 2.83L4 21.41c.39.39.9.59 1.41.59.51 0 1.02-.2 1.41-.59l7.78-7.78 2.81-2.81c.8-.78.8-2.07 0-2.86zM5.41 20L4 18.59l7.72-7.72 1.47 1.35L5.41 20z\"/>\n",
              "  </svg>\n",
              "      </button>\n",
              "\n",
              "\n",
              "\n",
              "    <div id=\"df-4f02a4ac-4e39-40ee-8d27-f409b05e4df7\">\n",
              "      <button class=\"colab-df-quickchart\" onclick=\"quickchart('df-4f02a4ac-4e39-40ee-8d27-f409b05e4df7')\"\n",
              "              title=\"Suggest charts.\"\n",
              "              style=\"display:none;\">\n",
              "\n",
              "<svg xmlns=\"http://www.w3.org/2000/svg\" height=\"24px\"viewBox=\"0 0 24 24\"\n",
              "     width=\"24px\">\n",
              "    <g>\n",
              "        <path d=\"M19 3H5c-1.1 0-2 .9-2 2v14c0 1.1.9 2 2 2h14c1.1 0 2-.9 2-2V5c0-1.1-.9-2-2-2zM9 17H7v-7h2v7zm4 0h-2V7h2v10zm4 0h-2v-4h2v4z\"/>\n",
              "    </g>\n",
              "</svg>\n",
              "      </button>\n",
              "    </div>\n",
              "\n",
              "<style>\n",
              "  .colab-df-quickchart {\n",
              "    background-color: #E8F0FE;\n",
              "    border: none;\n",
              "    border-radius: 50%;\n",
              "    cursor: pointer;\n",
              "    display: none;\n",
              "    fill: #1967D2;\n",
              "    height: 32px;\n",
              "    padding: 0 0 0 0;\n",
              "    width: 32px;\n",
              "  }\n",
              "\n",
              "  .colab-df-quickchart:hover {\n",
              "    background-color: #E2EBFA;\n",
              "    box-shadow: 0px 1px 2px rgba(60, 64, 67, 0.3), 0px 1px 3px 1px rgba(60, 64, 67, 0.15);\n",
              "    fill: #174EA6;\n",
              "  }\n",
              "\n",
              "  [theme=dark] .colab-df-quickchart {\n",
              "    background-color: #3B4455;\n",
              "    fill: #D2E3FC;\n",
              "  }\n",
              "\n",
              "  [theme=dark] .colab-df-quickchart:hover {\n",
              "    background-color: #434B5C;\n",
              "    box-shadow: 0px 1px 3px 1px rgba(0, 0, 0, 0.15);\n",
              "    filter: drop-shadow(0px 1px 2px rgba(0, 0, 0, 0.3));\n",
              "    fill: #FFFFFF;\n",
              "  }\n",
              "</style>\n",
              "\n",
              "    <script>\n",
              "      async function quickchart(key) {\n",
              "        const containerElement = document.querySelector('#' + key);\n",
              "        const charts = await google.colab.kernel.invokeFunction(\n",
              "            'suggestCharts', [key], {});\n",
              "      }\n",
              "    </script>\n",
              "\n",
              "      <script>\n",
              "\n",
              "function displayQuickchartButton(domScope) {\n",
              "  let quickchartButtonEl =\n",
              "    domScope.querySelector('#df-4f02a4ac-4e39-40ee-8d27-f409b05e4df7 button.colab-df-quickchart');\n",
              "  quickchartButtonEl.style.display =\n",
              "    google.colab.kernel.accessAllowed ? 'block' : 'none';\n",
              "}\n",
              "\n",
              "        displayQuickchartButton(document);\n",
              "      </script>\n",
              "      <style>\n",
              "    .colab-df-container {\n",
              "      display:flex;\n",
              "      flex-wrap:wrap;\n",
              "      gap: 12px;\n",
              "    }\n",
              "\n",
              "    .colab-df-convert {\n",
              "      background-color: #E8F0FE;\n",
              "      border: none;\n",
              "      border-radius: 50%;\n",
              "      cursor: pointer;\n",
              "      display: none;\n",
              "      fill: #1967D2;\n",
              "      height: 32px;\n",
              "      padding: 0 0 0 0;\n",
              "      width: 32px;\n",
              "    }\n",
              "\n",
              "    .colab-df-convert:hover {\n",
              "      background-color: #E2EBFA;\n",
              "      box-shadow: 0px 1px 2px rgba(60, 64, 67, 0.3), 0px 1px 3px 1px rgba(60, 64, 67, 0.15);\n",
              "      fill: #174EA6;\n",
              "    }\n",
              "\n",
              "    [theme=dark] .colab-df-convert {\n",
              "      background-color: #3B4455;\n",
              "      fill: #D2E3FC;\n",
              "    }\n",
              "\n",
              "    [theme=dark] .colab-df-convert:hover {\n",
              "      background-color: #434B5C;\n",
              "      box-shadow: 0px 1px 3px 1px rgba(0, 0, 0, 0.15);\n",
              "      filter: drop-shadow(0px 1px 2px rgba(0, 0, 0, 0.3));\n",
              "      fill: #FFFFFF;\n",
              "    }\n",
              "  </style>\n",
              "\n",
              "      <script>\n",
              "        const buttonEl =\n",
              "          document.querySelector('#df-6eb086f6-2a23-41cd-a7d2-601e791aca52 button.colab-df-convert');\n",
              "        buttonEl.style.display =\n",
              "          google.colab.kernel.accessAllowed ? 'block' : 'none';\n",
              "\n",
              "        async function convertToInteractive(key) {\n",
              "          const element = document.querySelector('#df-6eb086f6-2a23-41cd-a7d2-601e791aca52');\n",
              "          const dataTable =\n",
              "            await google.colab.kernel.invokeFunction('convertToInteractive',\n",
              "                                                     [key], {});\n",
              "          if (!dataTable) return;\n",
              "\n",
              "          const docLinkHtml = 'Like what you see? Visit the ' +\n",
              "            '<a target=\"_blank\" href=https://colab.research.google.com/notebooks/data_table.ipynb>data table notebook</a>'\n",
              "            + ' to learn more about interactive tables.';\n",
              "          element.innerHTML = '';\n",
              "          dataTable['output_type'] = 'display_data';\n",
              "          await google.colab.output.renderOutput(dataTable, element);\n",
              "          const docLink = document.createElement('div');\n",
              "          docLink.innerHTML = docLinkHtml;\n",
              "          element.appendChild(docLink);\n",
              "        }\n",
              "      </script>\n",
              "    </div>\n",
              "  </div>\n"
            ]
          },
          "metadata": {},
          "execution_count": 7
        }
      ]
    },
    {
      "cell_type": "code",
      "source": [
        "breast_cancer.shape"
      ],
      "metadata": {
        "colab": {
          "base_uri": "https://localhost:8080/"
        },
        "id": "YQlzmFvF-gUK",
        "outputId": "f7204589-72e8-425d-b19a-88cec7801619"
      },
      "execution_count": 6,
      "outputs": [
        {
          "output_type": "execute_result",
          "data": {
            "text/plain": [
              "(569, 32)"
            ]
          },
          "metadata": {},
          "execution_count": 6
        }
      ]
    },
    {
      "cell_type": "markdown",
      "source": [
        "# Mục tiêu cần đạt được."
      ],
      "metadata": {
        "id": "TSRBREG_SoUc"
      }
    },
    {
      "cell_type": "markdown",
      "source": [
        "xây dựng ra tất cả 4 version:\n",
        "- Sq - là thuật toán Random Forest chạy tuần tự.\n",
        "- V1 - là thuật toán Random Forest chạy song song bằng CPU.\n",
        "- V2 - là thuật toán Random Forest chạy song song bằng GPU.\n",
        "- V3 - là thuật toán Random Forest chạy song song sử dụng shared memory.\n",
        "\n",
        "<br>\n",
        "\n",
        "Ở mức kỳ vọng 100% - nhóm mong muốn có thể xây dựng được thuật toán đến V3 ( GPU ) và tốc độ có sự cải thiện khi chạy với dataset đủ lớn.\n",
        "\n",
        "<br>\n",
        "\n",
        "Ở mức kỳ vọng 125% - nhóm mong muốn xây dựng được thuật toán đến V4 và có thể ứng dụng thuật toán của nhóm vào để thử giải quyết một bài toán thực tế nào đó do các thành viên nhóm đề cử ( ví dụ chuẩn đoán bệnh ).\n"
      ],
      "metadata": {
        "id": "Ly7so6GaSrcl"
      }
    }
  ]
}